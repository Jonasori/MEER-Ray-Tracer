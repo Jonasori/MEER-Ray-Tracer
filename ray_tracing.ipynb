{
 "cells": [
  {
   "cell_type": "markdown",
   "id": "608deae0-6ef5-427b-a2c3-4e285bfb75bd",
   "metadata": {},
   "source": [
    "The bones of this ray tracing stuff come from [here](https://medium.com/swlh/ray-tracing-from-scratch-in-python-41670e6a96f9)"
   ]
  },
  {
   "cell_type": "code",
   "execution_count": 1,
   "id": "f13fcc19-def0-4481-959f-721728d892f7",
   "metadata": {},
   "outputs": [],
   "source": [
    "import os\n",
    "import numpy as np\n",
    "import matplotlib.pyplot as plt\n",
    "from tqdm.auto import tqdm\n",
    "from functools import partial\n",
    "import imageio\n",
    "from datetime import datetime\n",
    "\n",
    "\n",
    "plt.rcParams['figure.figsize'] = (20, 8)\n",
    "\n",
    "AU_TO_M = 1.496e11  # Distance to Sun, in meters"
   ]
  },
  {
   "cell_type": "code",
   "execution_count": 14,
   "id": "40a32948-b8c0-49b9-9c9f-9bf1b8d9b9e9",
   "metadata": {},
   "outputs": [],
   "source": [
    "def gif_outputs(all_images, name=None):\n",
    "    name = (\n",
    "        name if name else\n",
    "        str(datetime.now()).replace(\" \", \"_\").replace(\":\", \"h\")[:16]\n",
    "    )\n",
    "    dpath = f\"./plots/{name}/\"\n",
    "    if not os.path.exists(dpath):\n",
    "        print(\"Making\", dpath)\n",
    "        os.makedirs(dpath)\n",
    "\n",
    "    filenames = []\n",
    "    for i, image in tqdm(enumerate(all_images), total=len(all_images)):\n",
    "        fname = f\"{dpath}{round(i/n * 100)}_pct.png\"\n",
    "        filenames.append(fname)\n",
    "\n",
    "        plt.imshow(image)\n",
    "        plt.savefig(fname)\n",
    "    \n",
    "    pngs = [imageio.imread(fname) for fname in tqdm(filenames)]\n",
    "    imageio.mimsave(f'{dpath}total.gif', pngs)\n",
    "    \n",
    "    plt.clf()\n",
    "    r_sum = [np.sum(im[:, :, 0]) for im in all_images]\n",
    "    g_sum = [np.sum(im[:, :, 1]) for im in all_images]\n",
    "    b_sum = [np.sum(im[:, :, 2]) for im in all_images]\n",
    "\n",
    "    plt.plot(np.linspace(0, 12, n), r_sum, \"-or\")\n",
    "    plt.plot(np.linspace(0, 12, n), b_sum, \"-ob\")\n",
    "    plt.plot(np.linspace(0, 12, n), g_sum, \"-og\")\n",
    "\n",
    "    plt.xlabel(\"Hour\", weight=\"bold\", fontsize=14)\n",
    "    plt.ylabel(\"Intensity?\", weight=\"bold\", fontsize=14)\n",
    "    plt.savefig(f\"{dpath}intensity_timeseries.png\")"
   ]
  },
  {
   "cell_type": "code",
   "execution_count": 3,
   "id": "1c22f877-19fe-42e0-aa13-d371852ce836",
   "metadata": {},
   "outputs": [],
   "source": [
    "def normalize(vector):\n",
    "    return vector / np.linalg.norm(vector)\n",
    "\n",
    "def reflected(vector, axis):\n",
    "    return vector - 2 * np.dot(vector, axis) * axis\n",
    "\n",
    "def sphere_intersect(center, radius, ray_origin, ray_direction):\n",
    "    b = 2 * np.dot(ray_direction, ray_origin - center)\n",
    "    c = np.linalg.norm(ray_origin - center) ** 2 - radius ** 2\n",
    "    delta = b ** 2 - 4 * c\n",
    "    if delta > 0:\n",
    "        t1 = (-b + np.sqrt(delta)) / 2\n",
    "        t2 = (-b - np.sqrt(delta)) / 2\n",
    "        if t1 > 0 and t2 > 0:\n",
    "            return min(t1, t2)\n",
    "    return None\n",
    "\n",
    "\n",
    "def nearest_intersected_object(objects, ray_origin, ray_direction):\n",
    "    nearest_object = None\n",
    "    min_distance = np.inf\n",
    "    for obj in objects:\n",
    "        distance = obj.get_intersection_distance(ray_origin, ray_direction)\n",
    "        if distance and distance < min_distance:\n",
    "            min_distance = distance\n",
    "            nearest_object = obj\n",
    "    return nearest_object, min_distance"
   ]
  },
  {
   "cell_type": "code",
   "execution_count": 4,
   "id": "38a62be8-e889-417b-942a-c703fd8ac19b",
   "metadata": {},
   "outputs": [],
   "source": [
    "class Object:\n",
    "    def __init__(self, ambient_color, diffuse_color, specular_color, shininess, reflection, center_xyz):\n",
    "        self.ambient_color = ambient_color    # Three channel color\n",
    "        self.diffuse_color = diffuse_color    # Three channel color\n",
    "        self.specular_color = specular_color  # Three channel color\n",
    "        self.shininess = shininess            # [0, 1] coefficient\n",
    "        self.reflection = reflection          # [0, 1] coefficient\n",
    "\n",
    "        # Not sure using center_xyz across all geometries is a good idea\n",
    "        # since it means different things for different geometries\n",
    "        # Also not sure this is the right place for SCREEN_HEIGHT offsets\n",
    "        self.center_xyz = center_xyz\n",
    "        # self.center_xyz = [center_xyz[0], center_xyz[1], center_xyz[2] - SCREEN_ELEVATION]\n",
    "        # print(f\"Offsetting along vertical dimension by {SCREEN_ELEVATION} meters...\")\n",
    "    \n",
    "\n",
    "    def get_intersection_point(self, ray_origin, ray_direction):\n",
    "        return None\n",
    "\n",
    "    def get_normal_vector(self, ray_intersection):\n",
    "        # Find the normal vector at a given point on the object\n",
    "        return None\n",
    "\n",
    "\n",
    "class Sphere(Object):\n",
    "    def __init__(self, ambient_color, diffuse_color, specular_color, shininess, reflection, center_xyz, radius):\n",
    "        super().__init__(ambient_color, diffuse_color, specular_color, shininess, reflection, center_xyz)\n",
    "        self.radius = radius\n",
    "\n",
    "    def get_intersection_distance(self, ray_origin, ray_direction):\n",
    "        # This is x2 + y2 = r2, not quadratic formula\n",
    "        # https://youtu.be/HFPlKQGChpE?t=339\n",
    "        b = 2 * np.dot(ray_direction, ray_origin - self.center_xyz)  # aka t\n",
    "        c = np.linalg.norm(ray_origin - self.center_xyz) ** 2 - self.radius ** 2\n",
    "        \n",
    "        # This is the discriminant. If >0, there exist solutions\n",
    "        delta = b ** 2 - 4 * c\n",
    "        if delta > 0:\n",
    "            t1 = (-b + np.sqrt(delta)) / 2\n",
    "            t2 = (-b - np.sqrt(delta)) / 2\n",
    "            if t1 > 0 and t2 > 0:\n",
    "                return min(t1, t2)\n",
    "        return None\n",
    "\n",
    "\n",
    "    def get_normal_vector(self, ray_intersection):\n",
    "        # Find the normal vector at a given point on the object\n",
    "        vector = ray_intersection - self.center_xyz\n",
    "        return vector / np.linalg.norm(vector)\n",
    "\n",
    "\n",
    "    \n",
    "class Plane(Object):\n",
    "    def __init__(\n",
    "        self,\n",
    "        ambient_color, diffuse_color, specular_color, shininess, reflection, center_xyz,\n",
    "        normal_vec_to_plane=(1, 1, 1)\n",
    "    ):\n",
    "        \"\"\"\n",
    "        From https://stackoverflow.com/questions/8812073/ray-and-square-rectangle-intersection-in-3d\n",
    "        \"\"\"\n",
    "        super().__init__(ambient_color, diffuse_color, specular_color, shininess, reflection, center_xyz)\n",
    "        self.normal_vec_to_plane = normal_vec_to_plane\n",
    "\n",
    "    def get_intersection_distance(self, ray_origin, ray_direction):\n",
    "        a, b, c = self.normal_vec_to_plane\n",
    "        x0, y0, z0 = self.center_xyz\n",
    "        rx, ry, rz = ray_origin\n",
    "        vx, vy, vz = ray_direction\n",
    "\n",
    "        # x, y, z = np.linalg.norm(self.plane_center - ray_origin)\n",
    "\n",
    "        # Writing this with np.dot is clearer from a math perspective and more complicated as code.\n",
    "        # They're equivalent though.\n",
    "        # t = (a * x + b * y + c * z) / (a * vx + b * vy + c * vz)\n",
    "        # t = (a * (x0 - rx) + b * (y0 - ry) + c * (z0 - rz)) / (a * vx + b * vy + c * vz)\n",
    "        t = np.dot([a, b, c], [(x0 - rx), (y0 - ry), (z0 - rz)]) / np.dot([a, b, c], [vx, vy, vz])\n",
    "        \n",
    "        # If the denominator is tiny (e.g. the plane's normal and the ray are almost orthogonal), then discard it\n",
    "        too_parallel = t < 0.0002\n",
    "        doesnt_count = too_parallel\n",
    "        \n",
    "        return None if doesnt_count else t\n",
    "    \n",
    "    def get_normal_vector(self, ray_intersection):\n",
    "        # This is probably wrong, but in principle we just want to offset the existing normal vector we've got already\n",
    "        vector = self.normal_vec_to_plane - ray_intersection\n",
    "        return vector / np.linalg.norm(vector)\n",
    "\n",
    "\n",
    "class Disk(Plane):\n",
    "    def __init__(\n",
    "        self,\n",
    "        ambient_color, diffuse_color, specular_color, shininess, reflection, center_xyz,\n",
    "        normal_vec_to_plane=(1, 1, 1),\n",
    "        disk_radius=1\n",
    "    ):\n",
    "        super().__init__(ambient_color, diffuse_color, specular_color, shininess, reflection, center_xyz)\n",
    "        self.normal_vec_to_plane = normal_vec_to_plane\n",
    "        self.disk_radius = disk_radius\n",
    "\n",
    "    def get_intersection_distance(self, ray_origin, ray_direction):\n",
    "        a, b, c = self.normal_vec_to_plane\n",
    "        x0, y0, z0 = self.center_xyz\n",
    "        rx, ry, rz = ray_origin\n",
    "        vx, vy, vz = ray_direction\n",
    "\n",
    "        # x, y, z = np.linalg.norm(self.plane_center - ray_origin)\n",
    "        \n",
    "        t = np.dot([a, b, c], [(x0 - rx), (y0 - ry), (z0 - rz)]) / np.dot([a, b, c], [vx, vy, vz])\n",
    "        \n",
    "        # If the denominator is tiny (e.g. the plane's normal and the ray are almost orthogonal), then discard it\n",
    "        too_parallel = t < 0.0002\n",
    "        beyond_radius = np.sqrt(sum([(p-c)**2 for p, c in zip(t*ray_direction, self.center_xyz)])) > self.disk_radius\n",
    "        doesnt_count = too_parallel | beyond_radius\n",
    "\n",
    "        return None if doesnt_count else t\n",
    "    \n",
    "    \n",
    "class Rectangle(Plane):\n",
    "    def __init__(\n",
    "        self,\n",
    "        ambient_color, diffuse_color, specular_color, shininess, reflection, center_xyz,\n",
    "        normal_vec_to_plane=(1, 1, 1),\n",
    "        rect_orientation_vec=1,\n",
    "        rect_dimensions=[2, 4]\n",
    "    ):\n",
    "        \"\"\"\n",
    "        From https://stackoverflow.com/questions/8812073/ray-and-square-rectangle-intersection-in-3d\n",
    "        \"\"\"\n",
    "        super().__init__(ambient_color, diffuse_color, specular_color, shininess, reflection, center_xyz)\n",
    "        self.normal_vec_to_plane = normal_vec_to_plane\n",
    "        self.disk_radius = disk_radius\n",
    "        \n",
    "        \n",
    "    def get_intersection_distance(self, ray_origin, ray_direction):\n",
    "        a, b, c = self.normal_vec_to_plane\n",
    "        x0, y0, z0 = self.center_xyz\n",
    "        rx, ry, rz = ray_origin\n",
    "        vx, vy, vz = ray_direction\n",
    "\n",
    "        # x, y, z = np.linalg.norm(self.plane_center - ray_origin)\n",
    "\n",
    "        t = np.dot([a, b, c], [(x0 - rx), (y0 - ry), (z0 - rz)]) / np.dot([a, b, c], [vx, vy, vz])\n",
    "        \n",
    "        if t < 0.0002:\n",
    "            return None\n",
    "        \n",
    "\n",
    "        # All the above just gives a plane; now have to restrict it to just do the rectangle\n",
    "        # Given 𝑝1,𝑝2,𝑝4,𝑝5 vertices of your cuboid, and 𝑝𝑣 the point to test for intersection with the cuboid, compute:\n",
    "        # 𝑖=𝑝2−𝑝1𝑗=𝑝4−𝑝1𝑘=𝑝5−𝑝1𝑣=𝑝𝑣−𝑝1\n",
    "        # then, if\n",
    "        # 0<𝑣⋅𝑖<𝑖⋅𝑖0<𝑣⋅𝑗<𝑗⋅𝑗0<𝑣⋅𝑘<𝑘⋅𝑘\n",
    "        pv = t * ray_direction  # ?\n",
    "\n",
    "        return t"
   ]
  },
  {
   "cell_type": "code",
   "execution_count": 5,
   "id": "a79f569f-03aa-45dc-86f7-cb5108a08f6b",
   "metadata": {},
   "outputs": [],
   "source": [
    "def run(light, objects, camera):\n",
    "    \"\"\"\n",
    "    For each pixel:\n",
    "    - Find the vector between that pixel and the origin. This defines our line of sight.\n",
    "    - Check if there are any objects that intersect that line of sight. If so, find their distances from the origin and keep the closest one\n",
    "    - Find the vector that is normal to the surface of the closest object at the line-of-sight intersection point\n",
    "    - Find the vector from that intersection point to the light source\n",
    "    - If this intersection point is the closest thing to the light source along the line connceting them, the object is not shadowed.\n",
    "    - In that case, that point is now emitting light. Repeat this process to find the next intersection point?\n",
    "    \"\"\"\n",
    "\n",
    "    camera_position = np.array([0, 0, camera[\"image_distance\"]])\n",
    "    screen_height, screen_width = camera[\"screen_height\"], camera[\"screen_width\"]\n",
    "    ratio = float(screen_width) / screen_height\n",
    "\n",
    "    # Convert dimensions to screen coordinates\n",
    "    # screen is on origin (z=0) -- makes reflections easier I think?\n",
    "    screen = (\n",
    "        -camera[\"screen_unit_len\"],\n",
    "        camera[\"screen_unit_len\"] / ratio,\n",
    "        camera[\"screen_unit_len\"],\n",
    "        -camera[\"screen_unit_len\"] / ratio\n",
    "    ) # left, top, right, bottom\n",
    "\n",
    "    image = np.zeros((screen_height, screen_width, 3))\n",
    "    for i, y in tqdm(enumerate(np.linspace(screen[1], screen[3], screen_height))):\n",
    "        for j, x in enumerate(np.linspace(screen[0], screen[2], screen_width)):\n",
    "\n",
    "            # Origin needs to be internally defined to allow it to be moved around in each iteration\n",
    "            origin = camera_position\n",
    "            pixel = np.array([x, y, 0])\n",
    "\n",
    "            # Could get rid of the camera/screen paradigm by just fixing this to perpendicular?\n",
    "            direction = normalize(pixel - origin)\n",
    "\n",
    "            # Pixel color attributes\n",
    "            color = np.zeros((3))\n",
    "            reflection = 1\n",
    "\n",
    "            for k in range(3):  # Number of reflected bounces to capture\n",
    "\n",
    "                # Check for intersections\n",
    "                # If storing thermal info for each object, should do that here.\n",
    "                nearest_object, min_distance = nearest_intersected_object(objects, origin, direction)\n",
    "                if nearest_object is None:\n",
    "                    break\n",
    "\n",
    "                intersection = origin + min_distance * direction\n",
    "                normal_to_surface = nearest_object.get_normal_vector(intersection)  # normalize(intersection - nearest_object['center'])\n",
    "\n",
    "                # Shift the contact point to avoid the reflecting object being detected by an\n",
    "                # inclusive `between` on the next bounce (I think)\n",
    "                shifted_point = intersection + 1e-5 * normal_to_surface\n",
    "                intersection_to_light = normalize(light['position'] - shifted_point)\n",
    "\n",
    "                _, min_distance = nearest_intersected_object(objects, shifted_point, intersection_to_light)\n",
    "                intersection_to_light_distance = np.linalg.norm(light['position'] - intersection)\n",
    "\n",
    "                # Min distance is now the closest object to the light source, not camera_position.\n",
    "                is_shadowed = min_distance < intersection_to_light_distance\n",
    "                if is_shadowed:\n",
    "                    break\n",
    "\n",
    "                    \n",
    "                # Color Profiling\n",
    "                illumination = np.zeros((3))\n",
    "\n",
    "                # ambient\n",
    "                illumination += nearest_object.ambient_color * light['ambient']\n",
    "\n",
    "                # diffuse\n",
    "                illumination += (\n",
    "                    nearest_object.diffuse_color * light['diffuse']\n",
    "                    * np.dot(intersection_to_light, normal_to_surface)\n",
    "                )\n",
    "\n",
    "                # specular\n",
    "                intersection_to_camera_position = normalize(camera_position - intersection)\n",
    "                H = normalize(intersection_to_light + intersection_to_camera_position)\n",
    "                illumination += (\n",
    "                    nearest_object.specular_color * light['specular']\n",
    "                    * np.dot(normal_to_surface, H) ** (nearest_object.shininess / 4)\n",
    "                )\n",
    "\n",
    "                # reflection\n",
    "                color += reflection * illumination\n",
    "                reflection *= nearest_object.reflection\n",
    "\n",
    "                origin = shifted_point\n",
    "                direction = reflected(direction, normal_to_surface)\n",
    "\n",
    "            # I really don't like this, but it seems to be necessary or else we get a black screen.\n",
    "            image[i, j] = np.clip(color, 0, 1)\n",
    "    return image"
   ]
  },
  {
   "cell_type": "code",
   "execution_count": 6,
   "id": "f590cb5e-c53e-4ebc-b082-7ca0d2e6acca",
   "metadata": {},
   "outputs": [],
   "source": [
    "objects = [\n",
    "    Disk(\n",
    "        normal_vec_to_plane=(0, 1, 1),\n",
    "        center_xyz=(0, 0, -10),\n",
    "        disk_radius=50,\n",
    "\n",
    "        ambient_color=np.array([0.1, 0.2, 0.1]),\n",
    "        diffuse_color=np.array([0.1, 0.1, 0.1]),\n",
    "        specular_color=np.array([0.1, 0.1, 0.1]),\n",
    "        shininess=0.1,\n",
    "        reflection=0.2,\n",
    "    ),\n",
    "    Disk(\n",
    "        normal_vec_to_plane=(0, 1, 1),\n",
    "        center_xyz=(1, 0, 5),\n",
    "        disk_radius=0.5,\n",
    "\n",
    "        ambient_color=np.array([0.1, 0.1, 0.1]),\n",
    "        diffuse_color=np.array([0.6, 0.6, 0.6]),\n",
    "        specular_color=np.array([0.6, 0.1, 0.4]),\n",
    "        shininess=30,\n",
    "        reflection=0.7,\n",
    "    ),\n",
    "    Sphere(\n",
    "        center_xyz=np.array([0, 0, 1]),\n",
    "        radius=9,\n",
    "        ambient_color=np.array([0.9, 0.5, 0.1]),\n",
    "        diffuse_color=np.array([0.1, 0.9, 0.6]),\n",
    "        specular_color=np.array([1, 1, 1]),\n",
    "        shininess=100,\n",
    "        reflection=0.5,\n",
    "    ),\n",
    "]\n",
    "\n",
    "\n",
    "\n",
    "noon_sun = {\n",
    "    'position': np.array([0, AU_TO_M/2, AU_TO_M]),\n",
    "    'ambient': np.array([1, 1, 1]),\n",
    "    'diffuse': np.array([1, 1, 1]),\n",
    "    'specular': np.array([1, 1, 1])\n",
    "}\n",
    "\n",
    "camera = {\n",
    "    'screen_z': 50,    # Distance above ground (looking straight down); gets added to objects as an offset\n",
    "    \n",
    "    # The angles of the pyramid defined by (h=image_distance, bx=screen_height, by=screen_width) give focal length\n",
    "    'image_distance': 2,  # Distance from screen to camera\n",
    "    'screen_height': 200,\n",
    "    'screen_width': 300,\n",
    "\n",
    "    'screen_unit_len': 1,   # Convert the above units to meters. Probably not necessary\n",
    "}\n",
    "\n",
    "\n",
    "# This is just bad. Operates in place\n",
    "for obj in objects:\n",
    "    obj.center_xyz = [obj.center_xyz[0], obj.center_xyz[1], obj.center_xyz[2] - camera[\"screen_z\"]]"
   ]
  },
  {
   "cell_type": "code",
   "execution_count": 7,
   "id": "815ad91a-17d4-4ed9-ae68-3206fc6455d1",
   "metadata": {},
   "outputs": [
    {
     "data": {
      "application/vnd.jupyter.widget-view+json": {
       "model_id": "383d7a8ba411469db63ed9c0e5e49569",
       "version_major": 2,
       "version_minor": 0
      },
      "text/plain": [
       "0it [00:00, ?it/s]"
      ]
     },
     "metadata": {},
     "output_type": "display_data"
    },
    {
     "data": {
      "text/plain": [
       "<matplotlib.image.AxesImage at 0x7feb381b0ac0>"
      ]
     },
     "execution_count": 7,
     "metadata": {},
     "output_type": "execute_result"
    },
    {
     "data": {
      "image/png": "[encoded data removed]",
      "text/plain": [
       "<Figure size 1440x576 with 1 Axes>"
      ]
     },
     "metadata": {
      "needs_background": "light"
     },
     "output_type": "display_data"
    }
   ],
   "source": [
    "# Test run it\n",
    "\n",
    "image = run(\n",
    "    noon_sun,\n",
    "    objects,\n",
    "    camera\n",
    ")\n",
    "\n",
    "plt.imshow(image)"
   ]
  },
  {
   "cell_type": "markdown",
   "id": "2b907005-fc0b-4bd3-8c3d-d2d4a3ea717e",
   "metadata": {},
   "source": [
    "## Iterate over a day"
   ]
  },
  {
   "cell_type": "code",
   "execution_count": null,
   "id": "b647936b-5f91-493b-908d-51fda9c70a20",
   "metadata": {},
   "outputs": [
    {
     "name": "stdout",
     "output_type": "stream",
     "text": [
      "Making ./plots/2022-10-12_00h25/\n"
     ]
    },
    {
     "data": {
      "application/vnd.jupyter.widget-view+json": {
       "model_id": "77ce83639dea43e790f7f5ba5f0910aa",
       "version_major": 2,
       "version_minor": 0
      },
      "text/plain": [
       "  0%|          | 0/20 [00:00<?, ?it/s]"
      ]
     },
     "metadata": {},
     "output_type": "display_data"
    }
   ],
   "source": [
    "gif_outputs(all_images)"
   ]
  },
  {
   "cell_type": "code",
   "execution_count": 8,
   "id": "f2df5c70-1e27-4679-8b61-08ee5914046f",
   "metadata": {},
   "outputs": [
    {
     "data": {
      "application/vnd.jupyter.widget-view+json": {
       "model_id": "ee00d4d8da8c4c5e8879078271672a6b",
       "version_major": 2,
       "version_minor": 0
      },
      "text/plain": [
       "0it [00:00, ?it/s]"
      ]
     },
     "metadata": {},
     "output_type": "display_data"
    },
    {
     "data": {
      "application/vnd.jupyter.widget-view+json": {
       "model_id": "7d6b6647da3a4c58b2a033342bbfe3d8",
       "version_major": 2,
       "version_minor": 0
      },
      "text/plain": [
       "0it [00:00, ?it/s]"
      ]
     },
     "metadata": {},
     "output_type": "display_data"
    },
    {
     "data": {
      "application/vnd.jupyter.widget-view+json": {
       "model_id": "b8d45e041aa041d494031dbc7211ec15",
       "version_major": 2,
       "version_minor": 0
      },
      "text/plain": [
       "0it [00:00, ?it/s]"
      ]
     },
     "metadata": {},
     "output_type": "display_data"
    },
    {
     "data": {
      "application/vnd.jupyter.widget-view+json": {
       "model_id": "52d9767004a04e74ab9fb788ed5cb3fc",
       "version_major": 2,
       "version_minor": 0
      },
      "text/plain": [
       "0it [00:00, ?it/s]"
      ]
     },
     "metadata": {},
     "output_type": "display_data"
    },
    {
     "data": {
      "application/vnd.jupyter.widget-view+json": {
       "model_id": "d7789df7dc164e838c5c0bdb7bcde2fe",
       "version_major": 2,
       "version_minor": 0
      },
      "text/plain": [
       "0it [00:00, ?it/s]"
      ]
     },
     "metadata": {},
     "output_type": "display_data"
    },
    {
     "data": {
      "application/vnd.jupyter.widget-view+json": {
       "model_id": "89501bccfbd5445c99e33c663f13a41e",
       "version_major": 2,
       "version_minor": 0
      },
      "text/plain": [
       "0it [00:00, ?it/s]"
      ]
     },
     "metadata": {},
     "output_type": "display_data"
    },
    {
     "data": {
      "application/vnd.jupyter.widget-view+json": {
       "model_id": "f143b7ebc8cf46c9bd215a6af42609d2",
       "version_major": 2,
       "version_minor": 0
      },
      "text/plain": [
       "0it [00:00, ?it/s]"
      ]
     },
     "metadata": {},
     "output_type": "display_data"
    },
    {
     "data": {
      "application/vnd.jupyter.widget-view+json": {
       "model_id": "a506e2f4ab5444248a42cf97f7fcca46",
       "version_major": 2,
       "version_minor": 0
      },
      "text/plain": [
       "0it [00:00, ?it/s]"
      ]
     },
     "metadata": {},
     "output_type": "display_data"
    },
    {
     "data": {
      "application/vnd.jupyter.widget-view+json": {
       "model_id": "b1b4738f169f44578f34efdca80b0877",
       "version_major": 2,
       "version_minor": 0
      },
      "text/plain": [
       "0it [00:00, ?it/s]"
      ]
     },
     "metadata": {},
     "output_type": "display_data"
    },
    {
     "data": {
      "application/vnd.jupyter.widget-view+json": {
       "model_id": "667d7e40321a499d8391b56885b82fc5",
       "version_major": 2,
       "version_minor": 0
      },
      "text/plain": [
       "0it [00:00, ?it/s]"
      ]
     },
     "metadata": {},
     "output_type": "display_data"
    },
    {
     "data": {
      "application/vnd.jupyter.widget-view+json": {
       "model_id": "e88e2f1bf5284285bdd4d5b5a306326d",
       "version_major": 2,
       "version_minor": 0
      },
      "text/plain": [
       "0it [00:00, ?it/s]"
      ]
     },
     "metadata": {},
     "output_type": "display_data"
    },
    {
     "data": {
      "application/vnd.jupyter.widget-view+json": {
       "model_id": "cd0e1c87f214419b90802bdbfeed7be1",
       "version_major": 2,
       "version_minor": 0
      },
      "text/plain": [
       "0it [00:00, ?it/s]"
      ]
     },
     "metadata": {},
     "output_type": "display_data"
    },
    {
     "data": {
      "application/vnd.jupyter.widget-view+json": {
       "model_id": "9dffed7ad0ca4f1caba92123ccdfe73e",
       "version_major": 2,
       "version_minor": 0
      },
      "text/plain": [
       "0it [00:00, ?it/s]"
      ]
     },
     "metadata": {},
     "output_type": "display_data"
    },
    {
     "data": {
      "application/vnd.jupyter.widget-view+json": {
       "model_id": "a9ba544b90d74760a43dd129ccbc1d64",
       "version_major": 2,
       "version_minor": 0
      },
      "text/plain": [
       "0it [00:00, ?it/s]"
      ]
     },
     "metadata": {},
     "output_type": "display_data"
    },
    {
     "data": {
      "application/vnd.jupyter.widget-view+json": {
       "model_id": "e9d8364a7d5c4117a1530b475b0f2a7c",
       "version_major": 2,
       "version_minor": 0
      },
      "text/plain": [
       "0it [00:00, ?it/s]"
      ]
     },
     "metadata": {},
     "output_type": "display_data"
    },
    {
     "data": {
      "application/vnd.jupyter.widget-view+json": {
       "model_id": "e1ee5ac9dcd24dabb6d89016388368f2",
       "version_major": 2,
       "version_minor": 0
      },
      "text/plain": [
       "0it [00:00, ?it/s]"
      ]
     },
     "metadata": {},
     "output_type": "display_data"
    },
    {
     "data": {
      "application/vnd.jupyter.widget-view+json": {
       "model_id": "08266fbe348e4cf6acfd3adcb4aecbca",
       "version_major": 2,
       "version_minor": 0
      },
      "text/plain": [
       "0it [00:00, ?it/s]"
      ]
     },
     "metadata": {},
     "output_type": "display_data"
    },
    {
     "data": {
      "application/vnd.jupyter.widget-view+json": {
       "model_id": "2c1e44960e104736af7d6ce8173f0573",
       "version_major": 2,
       "version_minor": 0
      },
      "text/plain": [
       "0it [00:00, ?it/s]"
      ]
     },
     "metadata": {},
     "output_type": "display_data"
    },
    {
     "data": {
      "application/vnd.jupyter.widget-view+json": {
       "model_id": "43ce0ba018ab471a97fc5a92ed37c5f7",
       "version_major": 2,
       "version_minor": 0
      },
      "text/plain": [
       "0it [00:00, ?it/s]"
      ]
     },
     "metadata": {},
     "output_type": "display_data"
    },
    {
     "data": {
      "application/vnd.jupyter.widget-view+json": {
       "model_id": "61c43a4c5c204216a626d43b9de87cbb",
       "version_major": 2,
       "version_minor": 0
      },
      "text/plain": [
       "0it [00:00, ?it/s]"
      ]
     },
     "metadata": {},
     "output_type": "display_data"
    },
    {
     "name": "stdout",
     "output_type": "stream",
     "text": [
      "Making ./plots/2022-10-12_00h08/\n"
     ]
    },
    {
     "data": {
      "application/vnd.jupyter.widget-view+json": {
       "model_id": "6c81e04ac59744198675e0d489e84fae",
       "version_major": 2,
       "version_minor": 0
      },
      "text/plain": [
       "  0%|          | 0/20 [00:00<?, ?it/s]"
      ]
     },
     "metadata": {},
     "output_type": "display_data"
    },
    {
     "data": {
      "application/vnd.jupyter.widget-view+json": {
       "model_id": "6d44a18579094c39835fd5f6aae0e393",
       "version_major": 2,
       "version_minor": 0
      },
      "text/plain": [
       "  0%|          | 0/20 [00:00<?, ?it/s]"
      ]
     },
     "metadata": {},
     "output_type": "display_data"
    },
    {
     "name": "stderr",
     "output_type": "stream",
     "text": [
      "/var/folders/s4/815zz3k92kl8dnd2dp609xx40000gp/T/ipykernel_22714/4082389159.py:19: DeprecationWarning: Starting with ImageIO v3 the behavior of this function will switch to that of iio.v3.imread. To keep the current behavior (and make this warning disappear) use `import imageio.v2 as imageio` or call `imageio.v2.imread` directly.\n",
      "  pngs = [imageio.imread(fname) for fname in tqdm(filenames)]\n"
     ]
    },
    {
     "data": {
      "image/png": "[encoded data removed]",
      "text/plain": [
       "<Figure size 1440x576 with 1 Axes>"
      ]
     },
     "metadata": {
      "needs_background": "light"
     },
     "output_type": "display_data"
    }
   ],
   "source": [
    "n = 20  # Number of timesteps\n",
    "\n",
    "all_images = []\n",
    "for i in range(n):\n",
    "    # Assuming we're standing on the equator, it just goes in 2D (XZ) arc\n",
    "    sun_y = 0  # y is north/south. This will factor in if we do non-equatorial stuff\n",
    "    sun_x = AU_TO_M * np.cos(i*np.pi/n)\n",
    "    sun_z = AU_TO_M * np.sin(i*np.pi/n)\n",
    "    sun = {\n",
    "        'position': np.array([sun_x, sun_y, sun_z]),\n",
    "        'ambient': np.array([1, 1, 1]),\n",
    "        'diffuse': np.array([1, 1, 1]),\n",
    "        'specular': np.array([1, 1, 1])\n",
    "    }\n",
    "\n",
    "\n",
    "    # Might want to iterate over sides of a cube to get all incident light.\n",
    "    # Or just make a really wide camera\n",
    "    image = run(\n",
    "        sun,\n",
    "        objects,\n",
    "        camera\n",
    "    )\n",
    "    all_images.append(image)\n",
    "\n",
    "gif_outputs(all_images)"
   ]
  }
 ],
 "metadata": {
  "kernelspec": {
   "display_name": "meer",
   "language": "python",
   "name": "meer"
  },
  "language_info": {
   "codemirror_mode": {
    "name": "ipython",
    "version": 3
   },
   "file_extension": ".py",
   "mimetype": "text/x-python",
   "name": "python",
   "nbconvert_exporter": "python",
   "pygments_lexer": "ipython3",
   "version": "3.10.4"
  }
 },
 "nbformat": 4,
 "nbformat_minor": 5
}
